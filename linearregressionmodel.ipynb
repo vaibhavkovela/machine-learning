{
 "cells": [
  {
   "cell_type": "markdown",
   "metadata": {},
   "source": [
    "#linear Regression Model"
   ]
  },
  {
   "cell_type": "code",
   "execution_count": 1,
   "metadata": {},
   "outputs": [],
   "source": [
    "#procedural block\n",
    "##read \n",
    "##plot(scatter +line)\n",
    "#train\n",
    "#plot(scatter + line)(for the train block)\n",
    "#test\n",
    "#print errors\n",
    "###mean abs error\n",
    "###mean squared error\n",
    "###Root mean squared error\n",
    "###relative absolute error\n",
    "###relative squared error\n",
    "###r2 value\n",
    "\n"
   ]
  },
  {
   "cell_type": "code",
   "execution_count": 15,
   "metadata": {},
   "outputs": [
    {
     "name": "stdout",
     "output_type": "stream",
     "text": [
      "coefficent: 1.0181452104401914\n",
      "intercept: -0.7434221593803656\n",
      "mean absolute error:  0.17510011040365311\n",
      "mean squared error:  9.69468886069945\n",
      "root mean squared error:  3.113629531704029\n",
      "relative absolute error:  0.0028641680877640073\n",
      "relative square error:  0.0057550392216067755\n",
      "r square:  0.9942449607783932\n"
     ]
    },
    {
     "data": {
      "image/png": "[encoded data removed]",
      "text/plain": [
       "<Figure size 432x288 with 1 Axes>"
      ]
     },
     "metadata": {
      "needs_background": "light"
     },
     "output_type": "display_data"
    }
   ],
   "source": [
    "#code block\n",
    "import pandas as pd\n",
    "from matplotlib import pyplot as mp\n",
    "fp=pd.read_csv(\"test.csv\")\n",
    "x=fp['x']\n",
    "y=fp['y']\n",
    "mp.scatter(x,y,c=\"yellow\")\n",
    "trainlen=int(len(x)/2)\n",
    "testlen=len(x)-trainlen\n",
    "xtrain=list()\n",
    "ytrain=list()\n",
    "for i in range(trainlen):\n",
    "    xtrain.append(x[i])\n",
    "    ytrain.append(y[i])\n",
    "xbar=0\n",
    "ybar=0\n",
    "xbar1=0\n",
    "num=0\n",
    "den=0\n",
    "for i in xtrain:\n",
    "    xbar+=i\n",
    "for i in range(len(xtrain)):\n",
    "    xbar1+=x[i]\n",
    "for i in ytrain:\n",
    "    ybar+=i\n",
    "xbar/=trainlen\n",
    "ybar/=trainlen\n",
    "xbar1/=trainlen\n",
    "for i in range(len(xtrain)):\n",
    "    num+=((xtrain[i]-xbar)*(ytrain[i]-ybar))\n",
    "    den+=((xtrain[i]-xbar)**2)\n",
    "thet0=num/den\n",
    "thet1=ybar-(thet0*xbar)\n",
    "print(\"coefficent:\",thet0)\n",
    "print(\"intercept:\",thet1)\n",
    "ploty=list()\n",
    "for i in  xtrain:\n",
    "    ploty.append((i*thet0)+thet1)\n",
    "mp.plot(xtrain,ploty)\n",
    "xtest=list()\n",
    "ytest=list()\n",
    "for i in range(testlen):\n",
    "    xtest.append(x[trainlen+i])\n",
    "    ytest.append(y[trainlen+i])\n",
    "ytestanal=list()\n",
    "for i in xtest:\n",
    "    ytestanal.append((i*thet0)+thet1)\n",
    "mae=0\n",
    "for i in range(len(ytest)):\n",
    "    mae+=(ytest[i]-ytestanal[i])\n",
    "mae/=trainlen\n",
    "mae=abs(mae)\n",
    "mse=0\n",
    "for i in range(len(ytest)):\n",
    "    mse+=((ytest[i]-ytestanal[i])**2)\n",
    "mse/=trainlen\n",
    "rmse=0\n",
    "for i in range(len(ytest)):\n",
    "    rmse+=((ytest[i]-ytestanal[i])**2)\n",
    "rmse/=trainlen\n",
    "rmse=(rmse**0.5)\n",
    "mae=abs(mae)\n",
    "rae=0\n",
    "for i in range(len(ytest)):\n",
    "    rae+=abs(ytest[i]-ytestanal[i])    \n",
    "    num+=abs(ytest[i]-ybar)\n",
    "rae/=num\n",
    "rse=0\n",
    "for i in range(len(ytest)):\n",
    "    rse+=abs((ytest[i]-ytestanal[i])**2)    \n",
    "    num+=abs((ytest[i]-ybar)**2)\n",
    "rse/=num\n",
    "print(\"mean absolute error: \",mae)\n",
    "print(\"mean squared error: \",mse)\n",
    "print(\"root mean squared error: \",rmse)\n",
    "print(\"relative absolute error: \",rae)\n",
    "print(\"relative square error: \",rse)\n",
    "print(\"r square: \",(1-rse))\n"
   ]
  },
  {
   "cell_type": "code",
   "execution_count": null,
   "metadata": {},
   "outputs": [],
   "source": [
    "abs(-5)"
   ]
  }
 ],
 "metadata": {
  "kernelspec": {
   "display_name": "Python 3",
   "language": "python",
   "name": "python3"
  },
  "language_info": {
   "codemirror_mode": {
    "name": "ipython",
    "version": 3
   },
   "file_extension": ".py",
   "mimetype": "text/x-python",
   "name": "python",
   "nbconvert_exporter": "python",
   "pygments_lexer": "ipython3",
   "version": "3.7.3"
  }
 },
 "nbformat": 4,
 "nbformat_minor": 2
}
